{
  "nbformat": 4,
  "nbformat_minor": 0,
  "metadata": {
    "colab": {
      "name": "Random Data NN.ipynb",
      "provenance": [],
      "collapsed_sections": [],
      "authorship_tag": "ABX9TyPxtpZb4znoOTKdAG4wXr1N",
      "include_colab_link": true
    },
    "kernelspec": {
      "name": "python3",
      "display_name": "Python 3"
    },
    "language_info": {
      "name": "python"
    }
  },
  "cells": [
    {
      "cell_type": "markdown",
      "metadata": {
        "id": "view-in-github",
        "colab_type": "text"
      },
      "source": [
        "<a href=\"https://colab.research.google.com/github/Coalbear/Neural-Networks/blob/main/Random_Data_NN.ipynb\" target=\"_parent\"><img src=\"https://colab.research.google.com/assets/colab-badge.svg\" alt=\"Open In Colab\"/></a>"
      ]
    },
    {
      "cell_type": "code",
      "metadata": {
        "id": "g_3E8ls6C50M"
      },
      "source": [
        "import numpy as np\n",
        "import pandas as pd\n",
        "import sklearn.datasets as dt"
      ],
      "execution_count": null,
      "outputs": []
    },
    {
      "cell_type": "code",
      "metadata": {
        "id": "E1492MpMEShJ"
      },
      "source": [
        "seed = 99\n",
        "np.random.seed(seed)"
      ],
      "execution_count": null,
      "outputs": []
    },
    {
      "cell_type": "code",
      "metadata": {
        "id": "5KLmeOJhFGYI",
        "colab": {
          "base_uri": "https://localhost:8080/"
        },
        "outputId": "0348340d-7a1f-4d32-a8a8-278618626f68"
      },
      "source": [
        "Rows = 2\n",
        "Columns = 2\n",
        "Num = 300\n",
        "\n",
        "df = pd.DataFrame(np.random.uniform(0, 1, (Rows*Num, Columns)), columns=['0', '1'])\n",
        "df['target'] = df['0']**df['1']+2\n",
        "print(df.shape)"
      ],
      "execution_count": null,
      "outputs": [
        {
          "output_type": "stream",
          "name": "stdout",
          "text": [
            "(600, 3)\n"
          ]
        }
      ]
    },
    {
      "cell_type": "code",
      "metadata": {
        "colab": {
          "base_uri": "https://localhost:8080/",
          "height": 204
        },
        "id": "QFglW0hEIl2F",
        "outputId": "efe7e694-d207-4cfa-e3df-b0a95a5ae9c3"
      },
      "source": [
        "df.head()"
      ],
      "execution_count": null,
      "outputs": [
        {
          "output_type": "execute_result",
          "data": {
            "text/html": [
              "<div>\n",
              "<style scoped>\n",
              "    .dataframe tbody tr th:only-of-type {\n",
              "        vertical-align: middle;\n",
              "    }\n",
              "\n",
              "    .dataframe tbody tr th {\n",
              "        vertical-align: top;\n",
              "    }\n",
              "\n",
              "    .dataframe thead th {\n",
              "        text-align: right;\n",
              "    }\n",
              "</style>\n",
              "<table border=\"1\" class=\"dataframe\">\n",
              "  <thead>\n",
              "    <tr style=\"text-align: right;\">\n",
              "      <th></th>\n",
              "      <th>0</th>\n",
              "      <th>1</th>\n",
              "      <th>target</th>\n",
              "    </tr>\n",
              "  </thead>\n",
              "  <tbody>\n",
              "    <tr>\n",
              "      <th>0</th>\n",
              "      <td>0.672279</td>\n",
              "      <td>0.488078</td>\n",
              "      <td>2.823817</td>\n",
              "    </tr>\n",
              "    <tr>\n",
              "      <th>1</th>\n",
              "      <td>0.825495</td>\n",
              "      <td>0.031446</td>\n",
              "      <td>2.993988</td>\n",
              "    </tr>\n",
              "    <tr>\n",
              "      <th>2</th>\n",
              "      <td>0.808050</td>\n",
              "      <td>0.565617</td>\n",
              "      <td>2.886432</td>\n",
              "    </tr>\n",
              "    <tr>\n",
              "      <th>3</th>\n",
              "      <td>0.297622</td>\n",
              "      <td>0.046696</td>\n",
              "      <td>2.944980</td>\n",
              "    </tr>\n",
              "    <tr>\n",
              "      <th>4</th>\n",
              "      <td>0.990627</td>\n",
              "      <td>0.006826</td>\n",
              "      <td>2.999936</td>\n",
              "    </tr>\n",
              "  </tbody>\n",
              "</table>\n",
              "</div>"
            ],
            "text/plain": [
              "          0         1    target\n",
              "0  0.672279  0.488078  2.823817\n",
              "1  0.825495  0.031446  2.993988\n",
              "2  0.808050  0.565617  2.886432\n",
              "3  0.297622  0.046696  2.944980\n",
              "4  0.990627  0.006826  2.999936"
            ]
          },
          "metadata": {},
          "execution_count": 4
        }
      ]
    },
    {
      "cell_type": "code",
      "metadata": {
        "id": "W768UorhPGTU",
        "colab": {
          "base_uri": "https://localhost:8080/",
          "height": 282
        },
        "outputId": "7a910d91-5717-4f05-a6fe-9f54eb9ba3da"
      },
      "source": [
        "df.plot()"
      ],
      "execution_count": null,
      "outputs": [
        {
          "output_type": "execute_result",
          "data": {
            "text/plain": [
              "<matplotlib.axes._subplots.AxesSubplot at 0x7f178b5ffdd0>"
            ]
          },
          "metadata": {},
          "execution_count": 5
        },
        {
          "output_type": "display_data",
          "data": {
            "image/png": "[encoded data removed]",
            "text/plain": [
              "<Figure size 432x288 with 1 Axes>"
            ]
          },
          "metadata": {
            "needs_background": "light"
          }
        }
      ]
    },
    {
      "cell_type": "code",
      "metadata": {
        "id": "uOFU9s3PcpYw"
      },
      "source": [
        "from sklearn.model_selection import train_test_split\n",
        "X = df.drop('target', axis=1).copy()\n",
        "y = df['target'].copy()\n",
        "\n",
        "X_train, X_test, y_train, y_test = train_test_split(X, y, test_size=0.33, random_state=seed)"
      ],
      "execution_count": null,
      "outputs": []
    },
    {
      "cell_type": "code",
      "metadata": {
        "colab": {
          "base_uri": "https://localhost:8080/"
        },
        "id": "MhWIE3BBabra",
        "outputId": "aa0987a4-602b-497c-b54d-9b1b151e30b1"
      },
      "source": [
        "import tensorflow as tf\n",
        "\n",
        "\n",
        "model = tf.keras.Sequential()\n",
        "model.add(tf.keras.layers.Dense(500, activation = 'relu'))\n",
        "model.add(tf.keras.layers.Dense(150, activation = 'relu'))\n",
        "model.add(tf.keras.layers.Dense(1))\n",
        "model.compile(optimizer='adamax', loss='mse', metrics=['accuracy'])\n",
        "model.fit(X_train, y_train, epochs=100, batch_size=32, verbose=1)"
      ],
      "execution_count": null,
      "outputs": [
        {
          "output_type": "stream",
          "name": "stdout",
          "text": [
            "Epoch 1/100\n",
            "13/13 [==============================] - 1s 3ms/step - loss: 4.8967 - accuracy: 0.0000e+00\n",
            "Epoch 2/100\n",
            "13/13 [==============================] - 0s 3ms/step - loss: 1.2587 - accuracy: 0.0000e+00\n",
            "Epoch 3/100\n",
            "13/13 [==============================] - 0s 3ms/step - loss: 0.6135 - accuracy: 0.0000e+00\n",
            "Epoch 4/100\n",
            "13/13 [==============================] - 0s 2ms/step - loss: 0.4261 - accuracy: 0.0000e+00\n",
            "Epoch 5/100\n",
            "13/13 [==============================] - 0s 2ms/step - loss: 0.3640 - accuracy: 0.0000e+00\n",
            "Epoch 6/100\n",
            "13/13 [==============================] - 0s 2ms/step - loss: 0.2996 - accuracy: 0.0000e+00\n",
            "Epoch 7/100\n",
            "13/13 [==============================] - 0s 3ms/step - loss: 0.2508 - accuracy: 0.0000e+00\n",
            "Epoch 8/100\n",
            "13/13 [==============================] - 0s 5ms/step - loss: 0.2026 - accuracy: 0.0000e+00\n",
            "Epoch 9/100\n",
            "13/13 [==============================] - 0s 4ms/step - loss: 0.1618 - accuracy: 0.0000e+00\n",
            "Epoch 10/100\n",
            "13/13 [==============================] - 0s 3ms/step - loss: 0.1237 - accuracy: 0.0000e+00\n",
            "Epoch 11/100\n",
            "13/13 [==============================] - 0s 3ms/step - loss: 0.0921 - accuracy: 0.0000e+00\n",
            "Epoch 12/100\n",
            "13/13 [==============================] - 0s 3ms/step - loss: 0.0662 - accuracy: 0.0000e+00\n",
            "Epoch 13/100\n",
            "13/13 [==============================] - 0s 3ms/step - loss: 0.0469 - accuracy: 0.0000e+00\n",
            "Epoch 14/100\n",
            "13/13 [==============================] - 0s 3ms/step - loss: 0.0329 - accuracy: 0.0000e+00\n",
            "Epoch 15/100\n",
            "13/13 [==============================] - 0s 3ms/step - loss: 0.0242 - accuracy: 0.0000e+00\n",
            "Epoch 16/100\n",
            "13/13 [==============================] - 0s 3ms/step - loss: 0.0185 - accuracy: 0.0000e+00\n",
            "Epoch 17/100\n",
            "13/13 [==============================] - 0s 3ms/step - loss: 0.0150 - accuracy: 0.0000e+00\n",
            "Epoch 18/100\n",
            "13/13 [==============================] - 0s 2ms/step - loss: 0.0126 - accuracy: 0.0000e+00\n",
            "Epoch 19/100\n",
            "13/13 [==============================] - 0s 3ms/step - loss: 0.0110 - accuracy: 0.0000e+00\n",
            "Epoch 20/100\n",
            "13/13 [==============================] - 0s 3ms/step - loss: 0.0097 - accuracy: 0.0000e+00\n",
            "Epoch 21/100\n",
            "13/13 [==============================] - 0s 3ms/step - loss: 0.0089 - accuracy: 0.0000e+00\n",
            "Epoch 22/100\n",
            "13/13 [==============================] - 0s 2ms/step - loss: 0.0077 - accuracy: 0.0000e+00\n",
            "Epoch 23/100\n",
            "13/13 [==============================] - 0s 3ms/step - loss: 0.0070 - accuracy: 0.0000e+00\n",
            "Epoch 24/100\n",
            "13/13 [==============================] - 0s 3ms/step - loss: 0.0063 - accuracy: 0.0000e+00\n",
            "Epoch 25/100\n",
            "13/13 [==============================] - 0s 3ms/step - loss: 0.0057 - accuracy: 0.0000e+00\n",
            "Epoch 26/100\n",
            "13/13 [==============================] - 0s 3ms/step - loss: 0.0051 - accuracy: 0.0000e+00\n",
            "Epoch 27/100\n",
            "13/13 [==============================] - 0s 3ms/step - loss: 0.0047 - accuracy: 0.0000e+00\n",
            "Epoch 28/100\n",
            "13/13 [==============================] - 0s 3ms/step - loss: 0.0043 - accuracy: 0.0000e+00\n",
            "Epoch 29/100\n",
            "13/13 [==============================] - 0s 2ms/step - loss: 0.0039 - accuracy: 0.0000e+00\n",
            "Epoch 30/100\n",
            "13/13 [==============================] - 0s 3ms/step - loss: 0.0035 - accuracy: 0.0000e+00\n",
            "Epoch 31/100\n",
            "13/13 [==============================] - 0s 3ms/step - loss: 0.0031 - accuracy: 0.0000e+00\n",
            "Epoch 32/100\n",
            "13/13 [==============================] - 0s 3ms/step - loss: 0.0028 - accuracy: 0.0000e+00\n",
            "Epoch 33/100\n",
            "13/13 [==============================] - 0s 3ms/step - loss: 0.0026 - accuracy: 0.0000e+00\n",
            "Epoch 34/100\n",
            "13/13 [==============================] - 0s 3ms/step - loss: 0.0024 - accuracy: 0.0000e+00\n",
            "Epoch 35/100\n",
            "13/13 [==============================] - 0s 3ms/step - loss: 0.0022 - accuracy: 0.0000e+00\n",
            "Epoch 36/100\n",
            "13/13 [==============================] - 0s 2ms/step - loss: 0.0020 - accuracy: 0.0000e+00\n",
            "Epoch 37/100\n",
            "13/13 [==============================] - 0s 3ms/step - loss: 0.0018 - accuracy: 0.0000e+00\n",
            "Epoch 38/100\n",
            "13/13 [==============================] - 0s 3ms/step - loss: 0.0017 - accuracy: 0.0000e+00\n",
            "Epoch 39/100\n",
            "13/13 [==============================] - 0s 3ms/step - loss: 0.0016 - accuracy: 0.0000e+00\n",
            "Epoch 40/100\n",
            "13/13 [==============================] - 0s 3ms/step - loss: 0.0015 - accuracy: 0.0000e+00\n",
            "Epoch 41/100\n",
            "13/13 [==============================] - 0s 3ms/step - loss: 0.0014 - accuracy: 0.0000e+00\n",
            "Epoch 42/100\n",
            "13/13 [==============================] - 0s 3ms/step - loss: 0.0013 - accuracy: 0.0000e+00\n",
            "Epoch 43/100\n",
            "13/13 [==============================] - 0s 3ms/step - loss: 0.0012 - accuracy: 0.0000e+00\n",
            "Epoch 44/100\n",
            "13/13 [==============================] - 0s 3ms/step - loss: 0.0012 - accuracy: 0.0000e+00\n",
            "Epoch 45/100\n",
            "13/13 [==============================] - 0s 3ms/step - loss: 0.0011 - accuracy: 0.0000e+00\n",
            "Epoch 46/100\n",
            "13/13 [==============================] - 0s 3ms/step - loss: 0.0010 - accuracy: 0.0000e+00\n",
            "Epoch 47/100\n",
            "13/13 [==============================] - 0s 3ms/step - loss: 0.0010 - accuracy: 0.0000e+00\n",
            "Epoch 48/100\n",
            "13/13 [==============================] - 0s 3ms/step - loss: 9.6894e-04 - accuracy: 0.0000e+00\n",
            "Epoch 49/100\n",
            "13/13 [==============================] - 0s 3ms/step - loss: 9.2745e-04 - accuracy: 0.0000e+00\n",
            "Epoch 50/100\n",
            "13/13 [==============================] - 0s 2ms/step - loss: 8.9893e-04 - accuracy: 0.0000e+00\n",
            "Epoch 51/100\n",
            "13/13 [==============================] - 0s 3ms/step - loss: 8.7396e-04 - accuracy: 0.0000e+00\n",
            "Epoch 52/100\n",
            "13/13 [==============================] - 0s 3ms/step - loss: 8.2743e-04 - accuracy: 0.0000e+00\n",
            "Epoch 53/100\n",
            "13/13 [==============================] - 0s 3ms/step - loss: 7.9386e-04 - accuracy: 0.0000e+00\n",
            "Epoch 54/100\n",
            "13/13 [==============================] - 0s 3ms/step - loss: 7.7106e-04 - accuracy: 0.0000e+00\n",
            "Epoch 55/100\n",
            "13/13 [==============================] - 0s 3ms/step - loss: 7.4825e-04 - accuracy: 0.0000e+00\n",
            "Epoch 56/100\n",
            "13/13 [==============================] - 0s 3ms/step - loss: 7.2232e-04 - accuracy: 0.0000e+00\n",
            "Epoch 57/100\n",
            "13/13 [==============================] - 0s 2ms/step - loss: 6.9288e-04 - accuracy: 0.0000e+00\n",
            "Epoch 58/100\n",
            "13/13 [==============================] - 0s 2ms/step - loss: 6.6294e-04 - accuracy: 0.0000e+00\n",
            "Epoch 59/100\n",
            "13/13 [==============================] - 0s 3ms/step - loss: 6.4112e-04 - accuracy: 0.0000e+00\n",
            "Epoch 60/100\n",
            "13/13 [==============================] - 0s 3ms/step - loss: 6.2900e-04 - accuracy: 0.0000e+00\n",
            "Epoch 61/100\n",
            "13/13 [==============================] - 0s 3ms/step - loss: 6.1223e-04 - accuracy: 0.0000e+00\n",
            "Epoch 62/100\n",
            "13/13 [==============================] - 0s 3ms/step - loss: 5.9120e-04 - accuracy: 0.0000e+00\n",
            "Epoch 63/100\n",
            "13/13 [==============================] - 0s 3ms/step - loss: 5.7594e-04 - accuracy: 0.0000e+00\n",
            "Epoch 64/100\n",
            "13/13 [==============================] - 0s 3ms/step - loss: 5.5343e-04 - accuracy: 0.0000e+00\n",
            "Epoch 65/100\n",
            "13/13 [==============================] - 0s 3ms/step - loss: 5.3661e-04 - accuracy: 0.0000e+00\n",
            "Epoch 66/100\n",
            "13/13 [==============================] - 0s 3ms/step - loss: 5.0810e-04 - accuracy: 0.0000e+00\n",
            "Epoch 67/100\n",
            "13/13 [==============================] - 0s 3ms/step - loss: 4.9755e-04 - accuracy: 0.0000e+00\n",
            "Epoch 68/100\n",
            "13/13 [==============================] - 0s 2ms/step - loss: 4.7196e-04 - accuracy: 0.0000e+00\n",
            "Epoch 69/100\n",
            "13/13 [==============================] - 0s 2ms/step - loss: 4.8389e-04 - accuracy: 0.0000e+00\n",
            "Epoch 70/100\n",
            "13/13 [==============================] - 0s 3ms/step - loss: 4.6304e-04 - accuracy: 0.0000e+00\n",
            "Epoch 71/100\n",
            "13/13 [==============================] - 0s 2ms/step - loss: 4.3401e-04 - accuracy: 0.0000e+00\n",
            "Epoch 72/100\n",
            "13/13 [==============================] - 0s 3ms/step - loss: 4.3114e-04 - accuracy: 0.0000e+00\n",
            "Epoch 73/100\n",
            "13/13 [==============================] - 0s 3ms/step - loss: 4.3045e-04 - accuracy: 0.0000e+00\n",
            "Epoch 74/100\n",
            "13/13 [==============================] - 0s 3ms/step - loss: 4.0467e-04 - accuracy: 0.0000e+00\n",
            "Epoch 75/100\n",
            "13/13 [==============================] - 0s 3ms/step - loss: 3.9339e-04 - accuracy: 0.0000e+00\n",
            "Epoch 76/100\n",
            "13/13 [==============================] - 0s 3ms/step - loss: 3.7562e-04 - accuracy: 0.0000e+00\n",
            "Epoch 77/100\n",
            "13/13 [==============================] - 0s 3ms/step - loss: 3.7229e-04 - accuracy: 0.0000e+00\n",
            "Epoch 78/100\n",
            "13/13 [==============================] - 0s 3ms/step - loss: 3.4701e-04 - accuracy: 0.0000e+00\n",
            "Epoch 79/100\n",
            "13/13 [==============================] - 0s 3ms/step - loss: 3.3900e-04 - accuracy: 0.0000e+00\n",
            "Epoch 80/100\n",
            "13/13 [==============================] - 0s 2ms/step - loss: 3.3244e-04 - accuracy: 0.0000e+00\n",
            "Epoch 81/100\n",
            "13/13 [==============================] - 0s 3ms/step - loss: 3.2975e-04 - accuracy: 0.0000e+00\n",
            "Epoch 82/100\n",
            "13/13 [==============================] - 0s 2ms/step - loss: 3.1354e-04 - accuracy: 0.0000e+00\n",
            "Epoch 83/100\n",
            "13/13 [==============================] - 0s 3ms/step - loss: 3.0666e-04 - accuracy: 0.0000e+00\n",
            "Epoch 84/100\n",
            "13/13 [==============================] - 0s 2ms/step - loss: 3.0579e-04 - accuracy: 0.0000e+00\n",
            "Epoch 85/100\n",
            "13/13 [==============================] - 0s 3ms/step - loss: 2.8546e-04 - accuracy: 0.0000e+00\n",
            "Epoch 86/100\n",
            "13/13 [==============================] - 0s 3ms/step - loss: 2.8844e-04 - accuracy: 0.0000e+00\n",
            "Epoch 87/100\n",
            "13/13 [==============================] - 0s 3ms/step - loss: 2.6973e-04 - accuracy: 0.0000e+00\n",
            "Epoch 88/100\n",
            "13/13 [==============================] - 0s 3ms/step - loss: 2.7316e-04 - accuracy: 0.0000e+00\n",
            "Epoch 89/100\n",
            "13/13 [==============================] - 0s 3ms/step - loss: 2.6854e-04 - accuracy: 0.0000e+00\n",
            "Epoch 90/100\n",
            "13/13 [==============================] - 0s 3ms/step - loss: 2.6875e-04 - accuracy: 0.0000e+00\n",
            "Epoch 91/100\n",
            "13/13 [==============================] - 0s 2ms/step - loss: 2.5990e-04 - accuracy: 0.0000e+00\n",
            "Epoch 92/100\n",
            "13/13 [==============================] - 0s 3ms/step - loss: 2.4526e-04 - accuracy: 0.0000e+00\n",
            "Epoch 93/100\n",
            "13/13 [==============================] - 0s 3ms/step - loss: 2.4420e-04 - accuracy: 0.0000e+00\n",
            "Epoch 94/100\n",
            "13/13 [==============================] - 0s 2ms/step - loss: 2.3078e-04 - accuracy: 0.0000e+00\n",
            "Epoch 95/100\n",
            "13/13 [==============================] - 0s 3ms/step - loss: 2.2613e-04 - accuracy: 0.0000e+00\n",
            "Epoch 96/100\n",
            "13/13 [==============================] - 0s 3ms/step - loss: 2.2982e-04 - accuracy: 0.0000e+00\n",
            "Epoch 97/100\n",
            "13/13 [==============================] - 0s 3ms/step - loss: 2.2766e-04 - accuracy: 0.0000e+00\n",
            "Epoch 98/100\n",
            "13/13 [==============================] - 0s 3ms/step - loss: 2.1129e-04 - accuracy: 0.0000e+00\n",
            "Epoch 99/100\n",
            "13/13 [==============================] - 0s 3ms/step - loss: 2.0511e-04 - accuracy: 0.0000e+00\n",
            "Epoch 100/100\n",
            "13/13 [==============================] - 0s 2ms/step - loss: 1.9855e-04 - accuracy: 0.0000e+00\n"
          ]
        },
        {
          "output_type": "execute_result",
          "data": {
            "text/plain": [
              "<keras.callbacks.History at 0x7f1745054f50>"
            ]
          },
          "metadata": {},
          "execution_count": 7
        }
      ]
    },
    {
      "cell_type": "code",
      "metadata": {
        "colab": {
          "base_uri": "https://localhost:8080/"
        },
        "id": "BDycfm54bomn",
        "outputId": "a9570d17-2e2a-427b-8928-b772e4b86b55"
      },
      "source": [
        "import math\n",
        "error = model.evaluate(X_test, y_test, verbose=0)\n",
        "print('MSE: %.3f, RMSE: %.3f' % (error[0], math.sqrt(error[1])))"
      ],
      "execution_count": null,
      "outputs": [
        {
          "output_type": "stream",
          "name": "stdout",
          "text": [
            "MSE: 0.000, RMSE: 0.000\n"
          ]
        }
      ]
    },
    {
      "cell_type": "code",
      "metadata": {
        "colab": {
          "base_uri": "https://localhost:8080/"
        },
        "id": "gJuzc5Q7f_PA",
        "outputId": "fa1bea8f-49f8-4c61-c735-f52b3925c3ad"
      },
      "source": [
        "test = np.random.uniform(0, 1, (1,2))\n",
        "yhat = model.predict(test)\n",
        "print('Test value: %.3f, %.3f' % (test[0][0], test[0][1]))\n",
        "print('Predicted: %.3f' % yhat)\n",
        "print('Actual value: %.3f' %(test[0][0]**test[0][1]+2))"
      ],
      "execution_count": null,
      "outputs": [
        {
          "output_type": "stream",
          "name": "stdout",
          "text": [
            "Test value: 0.481, 0.603\n",
            "Predicted: 2.645\n",
            "Actual value: 2.643\n"
          ]
        }
      ]
    },
    {
      "cell_type": "code",
      "metadata": {
        "id": "PXjPf00ie3Si"
      },
      "source": [
        "df['yhat'] = model.predict(X)"
      ],
      "execution_count": null,
      "outputs": []
    },
    {
      "cell_type": "code",
      "metadata": {
        "id": "Z1M7HahIhuSU"
      },
      "source": [
        "df['diff'] = df['target'] - df['yhat']"
      ],
      "execution_count": null,
      "outputs": []
    },
    {
      "cell_type": "code",
      "metadata": {
        "colab": {
          "base_uri": "https://localhost:8080/",
          "height": 282
        },
        "id": "BwgRI_Qg69JK",
        "outputId": "8c887e34-4829-4b80-e750-13ab969661da"
      },
      "source": [
        "df.drop(['yhat', 'target', '0', '1'], axis=1).plot(kind='line')\n",
        "df['target'].plot(kind='line')"
      ],
      "execution_count": null,
      "outputs": [
        {
          "output_type": "execute_result",
          "data": {
            "text/plain": [
              "<matplotlib.axes._subplots.AxesSubplot at 0x7f1741906d50>"
            ]
          },
          "metadata": {},
          "execution_count": 12
        },
        {
          "output_type": "display_data",
          "data": {
            "image/png": "[encoded data removed]",
            "text/plain": [
              "<Figure size 432x288 with 1 Axes>"
            ]
          },
          "metadata": {
            "needs_background": "light"
          }
        }
      ]
    },
    {
      "cell_type": "code",
      "metadata": {
        "id": "tMg8hYUs8kLk"
      },
      "source": [
        ""
      ],
      "execution_count": null,
      "outputs": []
    }
  ]
}